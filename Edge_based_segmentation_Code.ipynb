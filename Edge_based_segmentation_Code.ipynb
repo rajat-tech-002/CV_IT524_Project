{
 "cells": [
  {
   "cell_type": "markdown",
   "metadata": {},
   "source": [
    "# Import Libraries"
   ]
  },
  {
   "cell_type": "markdown",
   "metadata": {},
   "source": [
    "# Read images and then use Canny Edge Detection"
   ]
  },
  {
   "cell_type": "code",
   "execution_count": 0,
   "metadata": {
    "colab": {
     "base_uri": "https://localhost:8080/",
     "height": 213
    },
    "colab_type": "code",
    "id": "5D6zqt0Qh3hI",
    "outputId": "20520111-481b-42a2-f1ed-93dbe51bc6ed"
   },
   "outputs": [
    {
     "data": {
      "text/plain": [
       "Text(0.5, 1.0, 'Canny detector')"
      ]
     },
     "execution_count": 609,
     "metadata": {
      "tags": []
     },
     "output_type": "execute_result"
    },
    {
     "data": {
      "image/png": "[encoded data removed]",
      "text/plain": [
       "<Figure size 288x216 with 1 Axes>"
      ]
     },
     "metadata": {
      "tags": []
     },
     "output_type": "display_data"
    }
   ],
   "source": [
    "import cv2\n",
    "import numpy as np\n",
    "from matplotlib import pyplot as plt\n",
    "from skimage.feature import canny\n",
    "from PIL import Image\n",
    "from pylab import *\n",
    "img = cv2.imread('/content/drive/My Drive/dataset/image/42049.jpg', cv2.IMREAD_GRAYSCALE)\n",
    "out=cv2.imread('/content/drive/My Drive/dataset/ground-truth/42049.png',cv2.IMREAD_GRAYSCALE)\n",
    "\n",
    "arr = np.asarray(img)\n",
    "\n",
    "rows, columns = np.shape(arr)\n",
    "\n",
    "edges = canny(img/255.)\n",
    "\n",
    "fig, ax = plt.subplots(figsize=(4, 3))\n",
    "ax.imshow(edges, cmap=plt.cm.gray, interpolation='nearest')\n",
    "ax.axis('off')\n",
    "ax.set_title('Canny detector')"
   ]
  },
  {
   "cell_type": "markdown",
   "metadata": {},
   "source": [
    "# Applying Threshold and filling holes"
   ]
  },
  {
   "cell_type": "code",
   "execution_count": 0,
   "metadata": {
    "colab": {
     "base_uri": "https://localhost:8080/",
     "height": 195
    },
    "colab_type": "code",
    "id": "x16UM0u0lNtD",
    "outputId": "40027cd6-4604-4311-ba28-9c911583d888"
   },
   "outputs": [
    {
     "data": {
      "image/png": "[encoded data removed]",
      "text/plain": [
       "<Figure size 288x216 with 1 Axes>"
      ]
     },
     "metadata": {
      "tags": []
     },
     "output_type": "display_data"
    }
   ],
   "source": [
    "from scipy import ndimage as ndi\n",
    "_, mask = cv2.threshold(img, 127, 255, cv2.THRESH_BINARY_INV)\n",
    "\n",
    "fill_coins = ndi.binary_fill_holes(edges)\n",
    "\n",
    "fig, ax = plt.subplots(figsize=(4, 3))\n",
    "ax.imshow(fill_coins, cmap=plt.cm.gray, interpolation='nearest')\n",
    "ax.axis('off')\n",
    "ax.set_title('Filling the holes')\n",
    "plt.gray()"
   ]
  },
  {
   "cell_type": "markdown",
   "metadata": {},
   "source": [
    "# Applying morphological operations"
   ]
  },
  {
   "cell_type": "code",
   "execution_count": 0,
   "metadata": {
    "colab": {
     "base_uri": "https://localhost:8080/",
     "height": 213
    },
    "colab_type": "code",
    "id": "R-5eFZnepWSM",
    "outputId": "cedad1e7-32f1-45f5-ee6c-736258149b66"
   },
   "outputs": [
    {
     "data": {
      "text/plain": [
       "Text(0.5, 1.0, 'Removing small objects')"
      ]
     },
     "execution_count": 611,
     "metadata": {
      "tags": []
     },
     "output_type": "execute_result"
    },
    {
     "data": {
      "image/png": "[encoded data removed]",
      "text/plain": [
       "<Figure size 288x216 with 1 Axes>"
      ]
     },
     "metadata": {
      "tags": []
     },
     "output_type": "display_data"
    }
   ],
   "source": [
    "from skimage import morphology\n",
    "coins_cleaned = morphology.remove_small_objects(fill_coins, 21)\n",
    "\n",
    "fig, ax = plt.subplots(figsize=(4, 3))\n",
    "ax.imshow(coins_cleaned, cmap=plt.cm.gray, interpolation='nearest')\n",
    "ax.axis('off')\n",
    "ax.set_title('Removing small objects')"
   ]
  },
  {
   "cell_type": "markdown",
   "metadata": {},
   "source": [
    "# Getting result again using thresholding"
   ]
  },
  {
   "cell_type": "code",
   "execution_count": 0,
   "metadata": {
    "colab": {
     "base_uri": "https://localhost:8080/",
     "height": 286
    },
    "colab_type": "code",
    "id": "B6z94hIYx37Y",
    "outputId": "60417fb1-b436-47bc-ce73-3417ef3c3752"
   },
   "outputs": [
    {
     "data": {
      "text/plain": [
       "<matplotlib.image.AxesImage at 0x7fdfc9f5e5f8>"
      ]
     },
     "execution_count": 612,
     "metadata": {
      "tags": []
     },
     "output_type": "execute_result"
    },
    {
     "data": {
      "image/png": "[encoded data removed]",
      "text/plain": [
       "<Figure size 432x288 with 1 Axes>"
      ]
     },
     "metadata": {
      "tags": []
     },
     "output_type": "display_data"
    }
   ],
   "source": [
    "result=np.zeros((rows,columns))\n",
    "for i in range(rows):\n",
    "    for j in range(columns):\n",
    "        # 0 for black and 255 for white\n",
    "        if mask[i][j] > 125:\n",
    "            result[i][j] = int(1)\n",
    "\n",
    "        else:\n",
    "            result[i][j] = int(0)\n",
    "plt.imshow(result)"
   ]
  },
  {
   "cell_type": "code",
   "execution_count": 0,
   "metadata": {
    "colab": {
     "base_uri": "https://localhost:8080/",
     "height": 286
    },
    "colab_type": "code",
    "id": "BnFQhZZNuiBk",
    "outputId": "67eecc66-2697-419b-997e-b2c851346b0a"
   },
   "outputs": [
    {
     "data": {
      "text/plain": [
       "<matplotlib.image.AxesImage at 0x7fdfc9f3a898>"
      ]
     },
     "execution_count": 613,
     "metadata": {
      "tags": []
     },
     "output_type": "execute_result"
    },
    {
     "data": {
      "image/png": "[encoded data removed]",
      "text/plain": [
       "<Figure size 432x288 with 1 Axes>"
      ]
     },
     "metadata": {
      "tags": []
     },
     "output_type": "display_data"
    }
   ],
   "source": [
    "arr_out = np.asarray(out)\n",
    "ground_out = np.zeros((rows, columns))\n",
    "\n",
    "for i in range(rows):\n",
    "    for j in range(columns):\n",
    "        # 0 for white and 1 for black\n",
    "        if arr_out[i][j] > 125:\n",
    "            ground_out[i][j] = int(1)\n",
    "\n",
    "        else:\n",
    "            ground_out[i][j] = int(0)\n",
    "plt.imshow(ground_out)"
   ]
  },
  {
   "cell_type": "markdown",
   "metadata": {},
   "source": [
    "# Calculating Precision, Recall, F1 Scores and IOU scores"
   ]
  },
  {
   "cell_type": "code",
   "execution_count": 0,
   "metadata": {
    "colab": {
     "base_uri": "https://localhost:8080/",
     "height": 265
    },
    "colab_type": "code",
    "id": "FfRZUCz4v0Qr",
    "outputId": "b4c248c4-b8f5-4079-a392-9016891213cf"
   },
   "outputs": [
    {
     "name": "stdout",
     "output_type": "stream",
     "text": [
      "\n",
      "************Calculation of Tpr, Fpr, F-Score, IoU ********************\n",
      "\n",
      "TPR is: 0.9214220785779215\n",
      "\n",
      "FPR is: 0.018733259555085084\n",
      "\n",
      " Precision: 0.9213600403972395\n",
      "\n",
      " Recall: 0.9214220785779215\n",
      "\n",
      " F1 Score: 0.9213910584433074\n",
      "\n",
      "IoU Score: 0.8542401448234964\n"
     ]
    }
   ],
   "source": [
    "tp = 0\n",
    "tn = 0\n",
    "fn = 0\n",
    "fp = 0\n",
    "\n",
    "for i in range(rows):\n",
    "    for j in range(columns):\n",
    "        if ground_out[i][j] == 1 and result[i][j] == 1:\n",
    "            tp = tp + 1\n",
    "        if ground_out[i][j] == 0 and result[i][j] == 0:\n",
    "            tn = tn + 1\n",
    "        if ground_out[i][j] == 1 and result[i][j] == 0:\n",
    "            fn = fn + 1\n",
    "        if ground_out[i][j] == 0 and result[i][j] == 1:\n",
    "            fp = fp + 1\n",
    "''' ********************************** Calculation of Tpr, Fpr, F-Score, IoU ***************************************************'''\n",
    "\n",
    "print('\\n************Calculation of Tpr, Fpr, F-Score, IoU ********************')\n",
    "\n",
    "# TP rate = TP/TP+FN\n",
    "tpr = float(tp) / (tp + fn)\n",
    "print(\"\\nTPR is:\", tpr)\n",
    "\n",
    "# fp rate is\n",
    "fpr = float(fp) / (fp + tn)\n",
    "print(\"\\nFPR is:\", fpr)\n",
    "\n",
    "pr = (float)(tp) / (tp + fp)\n",
    "print('\\n Precision:', pr)\n",
    "\n",
    "rec = (float)(tp) / (tp + fn)\n",
    "print('\\n Recall:', rec)\n",
    "\n",
    "f1 = (float)(2 * pr * rec) / (rec + pr)\n",
    "print('\\n F1 Score:', f1)\n",
    "\n",
    "iou = (float)(tp) / (tp + fp + fn)\n",
    "print(\"\\nIoU Score:\", iou)"
   ]
  }
 ],
 "metadata": {
  "accelerator": "GPU",
  "colab": {
   "collapsed_sections": [],
   "name": "edge based CV Project.ipynb",
   "provenance": []
  },
  "kernelspec": {
   "display_name": "Python 3",
   "language": "python",
   "name": "python3"
  },
  "language_info": {
   "codemirror_mode": {
    "name": "ipython",
    "version": 3
   },
   "file_extension": ".py",
   "mimetype": "text/x-python",
   "name": "python",
   "nbconvert_exporter": "python",
   "pygments_lexer": "ipython3",
   "version": "3.7.3"
  }
 },
 "nbformat": 4,
 "nbformat_minor": 1
}
